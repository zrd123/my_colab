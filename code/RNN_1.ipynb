{
  "nbformat": 4,
  "nbformat_minor": 0,
  "metadata": {
    "colab": {
      "private_outputs": true,
      "provenance": [],
      "collapsed_sections": [
        "s6aPxX7DYhBD"
      ],
      "authorship_tag": "ABX9TyMRsm9eZHha54z37DsVHl2T",
      "include_colab_link": true
    },
    "kernelspec": {
      "name": "python3",
      "display_name": "Python 3"
    },
    "language_info": {
      "name": "python"
    }
  },
  "cells": [
    {
      "cell_type": "markdown",
      "metadata": {
        "id": "view-in-github",
        "colab_type": "text"
      },
      "source": [
        "<a href=\"https://colab.research.google.com/github/zrd123/my_colab/blob/master/code/RNN_1.ipynb\" target=\"_parent\"><img src=\"https://colab.research.google.com/assets/colab-badge.svg\" alt=\"Open In Colab\"/></a>"
      ]
    },
    {
      "cell_type": "markdown",
      "source": [
        "# 序列模型"
      ],
      "metadata": {
        "id": "s6aPxX7DYhBD"
      }
    },
    {
      "cell_type": "code",
      "source": [
        "# !pip install d2l"
      ],
      "metadata": {
        "id": "4WsRy2gfYl6w"
      },
      "execution_count": null,
      "outputs": []
    },
    {
      "cell_type": "code",
      "execution_count": null,
      "metadata": {
        "id": "_KDvFTyWYZl5"
      },
      "outputs": [],
      "source": [
        "%matplotlib inline\n",
        "import torch\n",
        "from torch import nn\n",
        "from d2l import torch as d2l\n",
        "\n",
        "T = 1000  # 总共产生1000个点\n",
        "time = torch.arange(1, T + 1, dtype=torch.float32)\n",
        "x = torch.sin(0.01 * time) + torch.normal(0, 0.2, (T,))\n",
        "d2l.plot(time, [x], 'time', 'x', xlim=[1, 1000], figsize=(6, 3))"
      ]
    },
    {
      "cell_type": "code",
      "source": [
        "tau = 4\n",
        "# 样本数，特征数\n",
        "features = torch.zeros((T - tau, tau))\n",
        "for i in range(tau):\n",
        "    features[:, i] = x[i: T - tau + i]\n",
        "labels = x[tau:].reshape((-1, 1))\n",
        "\n",
        "batch_size, n_train = 16, 600\n",
        "# 只有前n_train个样本用于训练\n",
        "train_iter = d2l.load_array((features[:n_train], labels[:n_train]),\n",
        "                            batch_size, is_train=True)"
      ],
      "metadata": {
        "id": "GsuhSZwrYqXD"
      },
      "execution_count": null,
      "outputs": []
    },
    {
      "cell_type": "code",
      "source": [
        "# 初始化网络权重的函数\n",
        "def init_weights(m):\n",
        "    if type(m) == nn.Linear:\n",
        "        nn.init.xavier_uniform_(m.weight)\n",
        "\n",
        "# 一个简单的多层感知机\n",
        "def get_net():\n",
        "    net = nn.Sequential(nn.Linear(4, 10),\n",
        "                        nn.ReLU(),\n",
        "                        nn.Linear(10, 1))\n",
        "    net.apply(init_weights)\n",
        "    return net\n",
        "\n",
        "# 平方损失。注意：MSELoss计算平方误差时不带系数1/2\n",
        "loss = nn.MSELoss(reduction='none')"
      ],
      "metadata": {
        "id": "KxBkvK-QYqSR"
      },
      "execution_count": null,
      "outputs": []
    },
    {
      "cell_type": "code",
      "source": [
        "def train(net, train_iter, loss, epochs, lr):\n",
        "    trainer = torch.optim.Adam(net.parameters(), lr)\n",
        "    for epoch in range(epochs):\n",
        "        for X, y in train_iter:\n",
        "            trainer.zero_grad()\n",
        "            l = loss(net(X), y)\n",
        "            l.sum().backward()\n",
        "            trainer.step()\n",
        "        print(f'epoch {epoch + 1}, '\n",
        "              f'loss: {d2l.evaluate_loss(net, train_iter, loss):f}')\n",
        "\n",
        "net = get_net()\n",
        "train(net, train_iter, loss, 5, 0.01)"
      ],
      "metadata": {
        "id": "HY0Om_j4YqMP"
      },
      "execution_count": null,
      "outputs": []
    },
    {
      "cell_type": "markdown",
      "source": [
        "## 预测"
      ],
      "metadata": {
        "id": "tqMMxpnFY02G"
      }
    },
    {
      "cell_type": "code",
      "source": [
        "onestep_preds = net(features)\n",
        "d2l.plot([time, time[tau:]],\n",
        "         [x.detach().numpy(), onestep_preds.detach().numpy()], 'time',\n",
        "         'x', legend=['data', '1-step preds'], xlim=[1, 1000],\n",
        "         figsize=(6, 3))"
      ],
      "metadata": {
        "id": "rAmxIYcKYwB9"
      },
      "execution_count": null,
      "outputs": []
    },
    {
      "cell_type": "code",
      "source": [
        "multistep_preds = torch.zeros(T)\n",
        "multistep_preds[: n_train + tau] = x[: n_train + tau]\n",
        "for i in range(n_train + tau, T):\n",
        "    multistep_preds[i] = net(\n",
        "        multistep_preds[i - tau:i].reshape((1, -1)))\n",
        "\n",
        "d2l.plot([time, time[tau:], time[n_train + tau:]],\n",
        "         [x.detach().numpy(), onestep_preds.detach().numpy(),\n",
        "          multistep_preds[n_train + tau:].detach().numpy()], 'time',\n",
        "         'x', legend=['data', '1-step preds', 'multistep preds'],\n",
        "         xlim=[1, 1000], figsize=(6, 3))"
      ],
      "metadata": {
        "id": "EpzDogJhYv_j"
      },
      "execution_count": null,
      "outputs": []
    },
    {
      "cell_type": "code",
      "source": [
        "max_steps = 64\n",
        "\n",
        "features = torch.zeros((T - tau - max_steps + 1, tau + max_steps))\n",
        "# 列i（i<tau）是来自x的观测，其时间步从（i）到（i+T-tau-max_steps+1）\n",
        "for i in range(tau):\n",
        "    features[:, i] = x[i: i + T - tau - max_steps + 1]\n",
        "\n",
        "# 列i（i>=tau）是来自（i-tau+1）步的预测，其时间步从（i）到（i+T-tau-max_steps+1）\n",
        "for i in range(tau, tau + max_steps):\n",
        "    features[:, i] = net(features[:, i - tau:i]).reshape(-1)\n",
        "\n",
        "steps = (1, 4, 16, 64)\n",
        "d2l.plot([time[tau + i - 1: T - max_steps + i] for i in steps],\n",
        "         [features[:, (tau + i - 1)].detach().numpy() for i in steps], 'time', 'x',\n",
        "         legend=[f'{i}-step preds' for i in steps], xlim=[5, 1000],\n",
        "         figsize=(6, 3))"
      ],
      "metadata": {
        "id": "qM07l5A5Yv81"
      },
      "execution_count": null,
      "outputs": []
    },
    {
      "cell_type": "markdown",
      "source": [
        "# 文本预处理"
      ],
      "metadata": {
        "id": "cxUGB4EeZAz0"
      }
    },
    {
      "cell_type": "code",
      "source": [
        "# !pip install d2l"
      ],
      "metadata": {
        "id": "TGPgRRCaGLlT"
      },
      "execution_count": null,
      "outputs": []
    },
    {
      "cell_type": "code",
      "source": [
        "import collections\n",
        "import re\n",
        "from d2l import torch as d2l"
      ],
      "metadata": {
        "id": "W3NHoT1qYvuo"
      },
      "execution_count": null,
      "outputs": []
    },
    {
      "cell_type": "code",
      "source": [
        "d2l.DATA_HUB['time_machine'] = (d2l.DATA_URL + 'timemachine.txt',\n",
        "                                '090b5e7e70c295757f55df93cb0a180b9691891a')\n",
        "\n",
        "def read_time_machine():\n",
        "    \"\"\"将时间机器数据集加载到文本行的列表中\"\"\"\n",
        "    with open(d2l.download('time_machine'), 'r') as f:\n",
        "        lines = f.readlines()\n",
        "    return [re.sub('[^A-Za-z]+', ' ', line).strip().lower() for line in lines]\n",
        "\n",
        "lines = read_time_machine()\n",
        "print(f'# 文本总行数: {len(lines)}')\n",
        "print(lines[0])\n",
        "print(lines[10])"
      ],
      "metadata": {
        "id": "IDEzVFarZMey"
      },
      "execution_count": null,
      "outputs": []
    },
    {
      "cell_type": "code",
      "source": [
        "def tokenize(lines, token='word'):\n",
        "    \"\"\"将文本行拆分为单词或字符词元\"\"\"\n",
        "    if token == 'word':\n",
        "        return [line.split() for line in lines]\n",
        "    elif token == 'char':\n",
        "        return [list(line) for line in lines]\n",
        "    else:\n",
        "        print('错误：未知词元类型：' + token)\n",
        "\n",
        "tokens = tokenize(lines)\n",
        "print(len(tokens))\n",
        "num_vocab = 0\n",
        "for i in range(11):\n",
        "    print(tokens[i])\n",
        "for i in range(len(tokens)):\n",
        "    num_vocab += len(tokens[i])\n",
        "print(num_vocab)"
      ],
      "metadata": {
        "id": "0yBvv_P5ZMcG"
      },
      "execution_count": null,
      "outputs": []
    },
    {
      "cell_type": "code",
      "source": [
        "class Vocab:\n",
        "    \"\"\"文本词表\"\"\"\n",
        "    def __init__(self, tokens=None, min_freq=0, reserved_tokens=None):\n",
        "        if tokens is None:\n",
        "            tokens = []\n",
        "        if reserved_tokens is None:\n",
        "            reserved_tokens = []\n",
        "        # 按出现频率排序\n",
        "        counter = count_corpus(tokens)\n",
        "        self._token_freqs = sorted(counter.items(), key=lambda x: x[1],\n",
        "                                   reverse=True)\n",
        "        # 未知词元的索引为0\n",
        "        self.idx_to_token = ['<unk>'] + reserved_tokens\n",
        "        self.token_to_idx = {token: idx\n",
        "                             for idx, token in enumerate(self.idx_to_token)}\n",
        "        for token, freq in self._token_freqs:\n",
        "            if freq < min_freq:\n",
        "                break\n",
        "            if token not in self.token_to_idx:\n",
        "                self.idx_to_token.append(token)\n",
        "                self.token_to_idx[token] = len(self.idx_to_token) - 1\n",
        "\n",
        "    def __len__(self):\n",
        "        return len(self.idx_to_token)\n",
        "\n",
        "    def __getitem__(self, tokens):\n",
        "        if not isinstance(tokens, (list, tuple)):\n",
        "            return self.token_to_idx.get(tokens, self.unk)\n",
        "        return [self.__getitem__(token) for token in tokens]\n",
        "\n",
        "    def to_tokens(self, indices):\n",
        "        if not isinstance(indices, (list, tuple)):\n",
        "            return self.idx_to_token[indices]\n",
        "        return [self.idx_to_token[index] for index in indices]\n",
        "\n",
        "    @property\n",
        "    def unk(self):  # 未知词元的索引为0\n",
        "        return 0\n",
        "\n",
        "    @property\n",
        "    def token_freqs(self):\n",
        "        return self._token_freqs\n",
        "\n",
        "def count_corpus(tokens):\n",
        "    \"\"\"统计词元的频率\"\"\"\n",
        "    # 这里的tokens是1D列表或2D列表\n",
        "    if len(tokens) == 0 or isinstance(tokens[0], list):\n",
        "        # 将词元列表展平成一个列表\n",
        "        tokens = [token for line in tokens for token in line]\n",
        "    return collections.Counter(tokens)"
      ],
      "metadata": {
        "id": "U0iUuFmYZMaa"
      },
      "execution_count": null,
      "outputs": []
    },
    {
      "cell_type": "code",
      "source": [
        "# vocab--->按出现次数排序的列表\n",
        "vocab = Vocab(tokens)\n",
        "print(list(vocab.token_to_idx.items())[:10])"
      ],
      "metadata": {
        "id": "OSqVD7_lZMX_"
      },
      "execution_count": null,
      "outputs": []
    },
    {
      "cell_type": "code",
      "source": [
        "for i in [0, 10]:\n",
        "    print('文本:', tokens[i])\n",
        "    print('索引:', vocab[tokens[i]])"
      ],
      "metadata": {
        "id": "THANJuuMZMVf"
      },
      "execution_count": null,
      "outputs": []
    },
    {
      "cell_type": "code",
      "source": [
        "def load_corpus_time_machine(max_tokens=-1):\n",
        "    \"\"\"返回时光机器数据集的词元索引列表和词表\"\"\"\n",
        "    lines = read_time_machine()\n",
        "    # tokens = tokenize(lines, 'char')\n",
        "    tokens = tokenize(lines, 'word')\n",
        "    # vocab--->按出现次数排序的列表\n",
        "    vocab = Vocab(tokens)\n",
        "    # 因为时光机器数据集中的每个文本行不一定是一个句子或一个段落，\n",
        "    # 所以将所有文本行展平到一个列表中\n",
        "    # corpus--->每个文本对应的索引\n",
        "    corpus = [vocab[token] for line in tokens for token in line]\n",
        "    if max_tokens > 0:\n",
        "        corpus = corpus[:max_tokens]\n",
        "    return corpus, vocab\n",
        "\n",
        "corpus, vocab = load_corpus_time_machine()\n",
        "len(corpus), len(vocab)"
      ],
      "metadata": {
        "id": "Gd1qz6s8ZMTB"
      },
      "execution_count": null,
      "outputs": []
    },
    {
      "cell_type": "code",
      "source": [
        "corpus[32774]"
      ],
      "metadata": {
        "id": "HhNBf5PxHtZB"
      },
      "execution_count": null,
      "outputs": []
    },
    {
      "cell_type": "code",
      "source": [
        "# j = 0\n",
        "# i = 0\n",
        "# for k in range(1, len(vocab)+1):\n",
        "#     for i in corpus:\n",
        "#         if i==k:\n",
        "#             j+=1\n",
        "#     print(f\"{k},{i},{j}\")"
      ],
      "metadata": {
        "id": "U0Zn0fnGHSTY"
      },
      "execution_count": null,
      "outputs": []
    },
    {
      "cell_type": "markdown",
      "source": [
        "# 语言模型"
      ],
      "metadata": {
        "id": "wVyjqM7voK2m"
      }
    },
    {
      "cell_type": "code",
      "source": [
        "# !pip install d2l==0.17.6"
      ],
      "metadata": {
        "id": "UulshDHAsWQG"
      },
      "execution_count": null,
      "outputs": []
    },
    {
      "cell_type": "code",
      "source": [
        "import random\n",
        "import torch\n",
        "from d2l import torch as d2l\n",
        "\n",
        "tokens = d2l.tokenize(d2l.read_time_machine())\n",
        "# 因为每个文本行不一定是一个句子或一个段落，因此我们把所有文本行拼接到一起\n",
        "corpus = [token for line in tokens for token in line]\n",
        "vocab = d2l.Vocab(corpus)\n",
        "vocab.token_freqs[:10]"
      ],
      "metadata": {
        "id": "H-GxGrVHoOdj"
      },
      "execution_count": null,
      "outputs": []
    },
    {
      "cell_type": "code",
      "source": [
        "freqs = [freq for token, freq in vocab.token_freqs]\n",
        "d2l.plot(freqs, xlabel='token: x', ylabel='frequency: n(x)',\n",
        "         xscale='log', yscale='log')"
      ],
      "metadata": {
        "id": "wUIkr21hoOa5"
      },
      "execution_count": null,
      "outputs": []
    },
    {
      "cell_type": "code",
      "source": [
        "# 0, 1, 2, 3, ..., n-1\n",
        "#    1, 2, 3, ..., n-1, n\n",
        "# 在zip中的两个列表中依次取出一个组成一个pair\n",
        "bigram_tokens = [pair for pair in zip(corpus[:-1], corpus[1:])]\n",
        "bigram_vocab = d2l.Vocab(bigram_tokens)\n",
        "bigram_vocab.token_freqs[:10]"
      ],
      "metadata": {
        "id": "yccyGL_ToOX6"
      },
      "execution_count": null,
      "outputs": []
    },
    {
      "cell_type": "code",
      "source": [
        "# 0, 1, 2, 3, ..., n-2\n",
        "#    1, 2, 3, ..., n-2, n-1\n",
        "#       2, 3, ..., n-2, n-1, n\n",
        "# 在zip中的三个列表中依次取出一个组成一个pair\n",
        "trigram_tokens = [triple for triple in zip(\n",
        "    corpus[:-2], corpus[1:-1], corpus[2:])]\n",
        "trigram_vocab = d2l.Vocab(trigram_tokens)\n",
        "trigram_vocab.token_freqs[:10]"
      ],
      "metadata": {
        "id": "47OBJjbqoOUx"
      },
      "execution_count": null,
      "outputs": []
    },
    {
      "cell_type": "code",
      "source": [
        "bigram_freqs = [freq for token, freq in bigram_vocab.token_freqs]\n",
        "trigram_freqs = [freq for token, freq in trigram_vocab.token_freqs]\n",
        "d2l.plot([freqs, bigram_freqs, trigram_freqs], xlabel='token: x',\n",
        "         ylabel='frequency: n(x)', xscale='log', yscale='log',\n",
        "         legend=['unigram', 'bigram', 'trigram'])"
      ],
      "metadata": {
        "id": "Q8u0Jcr2oN9G"
      },
      "execution_count": null,
      "outputs": []
    },
    {
      "cell_type": "code",
      "source": [
        "# 方法一：随机切段，随机读取一段，\n",
        "def seq_data_iter_random(corpus, batch_size, num_steps):\n",
        "    \"\"\"使用随机抽样生成一个小批量子序列\"\"\"\n",
        "    # 从随机偏移量开始对序列进行分区，随机范围包括num_steps-1\n",
        "    corpus = corpus[random.randint(0, num_steps - 1):]\n",
        "    # 减去1，是因为我们需要考虑标签\n",
        "    num_subseqs = (len(corpus) - 1) // num_steps\n",
        "    # 长度为num_steps的子序列的起始索引\n",
        "    initial_indices = list(range(0, num_subseqs * num_steps, num_steps))\n",
        "    # 在随机抽样的迭代过程中，\n",
        "    # 来自两个相邻的、随机的、小批量中的子序列不一定在原始序列上相邻\n",
        "    random.shuffle(initial_indices)\n",
        "\n",
        "    def data(pos):\n",
        "        # 返回从pos位置开始的长度为num_steps的序列\n",
        "        return corpus[pos: pos + num_steps]\n",
        "\n",
        "    num_batches = num_subseqs // batch_size\n",
        "    for i in range(0, batch_size * num_batches, batch_size):\n",
        "        # 在这里，initial_indices包含子序列的随机起始索引，有batch_size个索引\n",
        "        initial_indices_per_batch = initial_indices[i: i + batch_size]\n",
        "        # 通过索引从corpus中读取相应的数据\n",
        "        X = [data(j) for j in initial_indices_per_batch]\n",
        "        Y = [data(j + 1) for j in initial_indices_per_batch]\n",
        "        yield torch.tensor(X), torch.tensor(Y)"
      ],
      "metadata": {
        "id": "SmkfF1A_obLr"
      },
      "execution_count": null,
      "outputs": []
    },
    {
      "cell_type": "code",
      "source": [
        "my_seq = list(range(35))\n",
        "for X, Y in seq_data_iter_random(my_seq, batch_size=2, num_steps=5):\n",
        "    print('X: ', X, '\\nY:', Y)"
      ],
      "metadata": {
        "id": "zMFC7AGXobJG"
      },
      "execution_count": null,
      "outputs": []
    },
    {
      "cell_type": "code",
      "source": [
        "# 每个序列都是连续的\n",
        "def seq_data_iter_sequential(corpus, batch_size, num_steps):\n",
        "    \"\"\"使用顺序分区生成一个小批量子序列\"\"\"\n",
        "    # 从随机偏移量开始划分序列\n",
        "    offset = random.randint(0, num_steps)\n",
        "    num_tokens = ((len(corpus) - offset - 1) // batch_size) * batch_size\n",
        "    Xs = torch.tensor(corpus[offset: offset + num_tokens])\n",
        "    Ys = torch.tensor(corpus[offset + 1: offset + 1 + num_tokens])\n",
        "    Xs, Ys = Xs.reshape(batch_size, -1), Ys.reshape(batch_size, -1)\n",
        "    num_batches = Xs.shape[1] // num_steps\n",
        "    # 每个batch_size中有Xs.shape[1]个元素，即num_batches个序列，一个序列中有num_steps个元素\n",
        "    for i in range(0, num_steps * num_batches, num_steps):\n",
        "        X = Xs[:, i: i + num_steps]\n",
        "        Y = Ys[:, i: i + num_steps]\n",
        "        yield X, Y"
      ],
      "metadata": {
        "id": "6_umEnxUobGf"
      },
      "execution_count": null,
      "outputs": []
    },
    {
      "cell_type": "code",
      "source": [
        "for X, Y in seq_data_iter_sequential(my_seq, batch_size=2, num_steps=5):\n",
        "    print('X: ', X, '\\nY:', Y)"
      ],
      "metadata": {
        "id": "kBqmOIjzol9H"
      },
      "execution_count": null,
      "outputs": []
    },
    {
      "cell_type": "code",
      "source": [
        "class SeqDataLoader:\n",
        "    \"\"\"加载序列数据的迭代器\"\"\"\n",
        "    def __init__(self, batch_size, num_steps, use_random_iter, max_tokens):\n",
        "        if use_random_iter:\n",
        "            self.data_iter_fn = d2l.seq_data_iter_random\n",
        "        else:\n",
        "            self.data_iter_fn = d2l.seq_data_iter_sequential\n",
        "        self.corpus, self.vocab = d2l.load_corpus_time_machine(max_tokens)\n",
        "        self.batch_size, self.num_steps = batch_size, num_steps\n",
        "\n",
        "    def __iter__(self):\n",
        "        return self.data_iter_fn(self.corpus, self.batch_size, self.num_steps)"
      ],
      "metadata": {
        "id": "jFJaGvrXol6e"
      },
      "execution_count": null,
      "outputs": []
    },
    {
      "cell_type": "code",
      "source": [
        "def load_data_time_machine(batch_size, num_steps,\n",
        "                           use_random_iter=False, max_tokens=10000):\n",
        "    \"\"\"返回时光机器数据集的迭代器和词表\"\"\"\n",
        "    data_iter = SeqDataLoader(\n",
        "        batch_size, num_steps, use_random_iter, max_tokens)\n",
        "    return data_iter, data_iter.vocab"
      ],
      "metadata": {
        "id": "BYj7W8CKol3L"
      },
      "execution_count": null,
      "outputs": []
    },
    {
      "cell_type": "markdown",
      "source": [
        "# RNN"
      ],
      "metadata": {
        "id": "tHWNbY8oBj0a"
      }
    },
    {
      "cell_type": "code",
      "source": [],
      "metadata": {
        "id": "DNz_xs4DBl49"
      },
      "execution_count": null,
      "outputs": []
    }
  ]
}